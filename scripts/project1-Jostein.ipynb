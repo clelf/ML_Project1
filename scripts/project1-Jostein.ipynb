{
 "cells": [
  {
   "cell_type": "code",
   "execution_count": 1,
   "metadata": {},
   "outputs": [],
   "source": [
    "# Useful starting lines\n",
    "%matplotlib inline\n",
    "import numpy as np\n",
    "import matplotlib.pyplot as plt\n",
    "%load_ext autoreload\n",
    "%autoreload 2\n",
    "\n",
    "# Additionally added libraries"
   ]
  },
  {
   "cell_type": "markdown",
   "metadata": {},
   "source": [
    "## Load the training data into feature matrix, class labels, and event ids:"
   ]
  },
  {
   "cell_type": "code",
   "execution_count": 2,
   "metadata": {},
   "outputs": [],
   "source": [
    "from proj1_helpers import *\n",
    "DATA_TRAIN_PATH = '../data/train.csv'\n",
    "y, tX, ids = load_csv_data(DATA_TRAIN_PATH)\n",
    "#### Remember to unpack data from .zip folders"
   ]
  },
  {
   "cell_type": "markdown",
   "metadata": {},
   "source": [
    "Investigating loaded data"
   ]
  },
  {
   "cell_type": "code",
   "execution_count": 3,
   "metadata": {},
   "outputs": [
    {
     "data": {
      "text/plain": [
       "array([[ 138.47 ,   51.655,   97.827, ...,    1.24 ,   -2.475,  113.497],\n",
       "       [ 160.937,   68.768,  103.235, ..., -999.   , -999.   ,   46.226],\n",
       "       [-999.   ,  162.172,  125.953, ..., -999.   , -999.   ,   44.251],\n",
       "       ...,\n",
       "       [ 105.457,   60.526,   75.839, ..., -999.   , -999.   ,   41.992],\n",
       "       [  94.951,   19.362,   68.812, ..., -999.   , -999.   ,    0.   ],\n",
       "       [-999.   ,   72.756,   70.831, ..., -999.   , -999.   ,    0.   ]])"
      ]
     },
     "execution_count": 3,
     "metadata": {},
     "output_type": "execute_result"
    }
   ],
   "source": [
    "tX"
   ]
  },
  {
   "cell_type": "code",
   "execution_count": 4,
   "metadata": {},
   "outputs": [
    {
     "name": "stdout",
     "output_type": "stream",
     "text": [
      "[2. 1. 1. 0. 0. 3. 2. 1. 0. 1.]\n"
     ]
    }
   ],
   "source": [
    "tX.shape\n",
    "print(tX[0:10,22])"
   ]
  },
  {
   "cell_type": "code",
   "execution_count": 5,
   "metadata": {},
   "outputs": [
    {
     "name": "stdout",
     "output_type": "stream",
     "text": [
      "[2. 1. 1. 0. 0. 3. 2. 1. 0. 1.]\n"
     ]
    }
   ],
   "source": [
    "# Setting -999 to NaN values\n",
    "tX[tX==-999] = np.nan\n",
    "tX\n",
    "print(tX[0:10,22])"
   ]
  },
  {
   "cell_type": "code",
   "execution_count": 6,
   "metadata": {},
   "outputs": [],
   "source": [
    "# Numerical exploratory data analysis\n",
    "# row1: mean | row2: variance | row3: standard deviation | row4: minimum value | row5: maximum value | row6: number of NaN's\n",
    "feature_details = np.zeros([7, tX.shape[1]])\n",
    "for i in range(tX.shape[1]):\n",
    "    feature_details[0, i] = np.nanmean(tX[:,i])\n",
    "    feature_details[1, i] = np.nanvar(tX[:,i])\n",
    "    feature_details[2, i] = np.nanstd(tX[:,i])\n",
    "    feature_details[3, i] = np.nanmin(tX[:,i])\n",
    "    feature_details[4, i] = np.nanmax(tX[:,i])\n",
    "    feature_details[5, i] = np.isnan(tX[:,i]).sum()\n",
    "    feature_details[6, i] = np.nanmedian(tX[:,i])\n",
    "#.... I dont know how to represent this in a nice way without pandas.DataFrame, without doing a lot of coding...\n",
    "#print(feature_details)"
   ]
  },
  {
   "cell_type": "code",
   "execution_count": 7,
   "metadata": {},
   "outputs": [
    {
     "data": {
      "text/html": [
       "<div>\n",
       "<style scoped>\n",
       "    .dataframe tbody tr th:only-of-type {\n",
       "        vertical-align: middle;\n",
       "    }\n",
       "\n",
       "    .dataframe tbody tr th {\n",
       "        vertical-align: top;\n",
       "    }\n",
       "\n",
       "    .dataframe thead th {\n",
       "        text-align: right;\n",
       "    }\n",
       "</style>\n",
       "<table border=\"1\" class=\"dataframe\">\n",
       "  <thead>\n",
       "    <tr style=\"text-align: right;\">\n",
       "      <th></th>\n",
       "      <th>0</th>\n",
       "      <th>1</th>\n",
       "      <th>2</th>\n",
       "      <th>3</th>\n",
       "      <th>4</th>\n",
       "      <th>5</th>\n",
       "      <th>6</th>\n",
       "      <th>7</th>\n",
       "      <th>8</th>\n",
       "      <th>9</th>\n",
       "      <th>...</th>\n",
       "      <th>20</th>\n",
       "      <th>21</th>\n",
       "      <th>22</th>\n",
       "      <th>23</th>\n",
       "      <th>24</th>\n",
       "      <th>25</th>\n",
       "      <th>26</th>\n",
       "      <th>27</th>\n",
       "      <th>28</th>\n",
       "      <th>29</th>\n",
       "    </tr>\n",
       "    <tr>\n",
       "      <th>Statistics</th>\n",
       "      <th></th>\n",
       "      <th></th>\n",
       "      <th></th>\n",
       "      <th></th>\n",
       "      <th></th>\n",
       "      <th></th>\n",
       "      <th></th>\n",
       "      <th></th>\n",
       "      <th></th>\n",
       "      <th></th>\n",
       "      <th></th>\n",
       "      <th></th>\n",
       "      <th></th>\n",
       "      <th></th>\n",
       "      <th></th>\n",
       "      <th></th>\n",
       "      <th></th>\n",
       "      <th></th>\n",
       "      <th></th>\n",
       "      <th></th>\n",
       "      <th></th>\n",
       "    </tr>\n",
       "  </thead>\n",
       "  <tbody>\n",
       "    <tr>\n",
       "      <th>Mean</th>\n",
       "      <td>121.858528</td>\n",
       "      <td>49.239819</td>\n",
       "      <td>81.181982</td>\n",
       "      <td>57.895962</td>\n",
       "      <td>2.403735</td>\n",
       "      <td>371.783360</td>\n",
       "      <td>-0.821688</td>\n",
       "      <td>2.373100</td>\n",
       "      <td>18.917332</td>\n",
       "      <td>158.432217</td>\n",
       "      <td>...</td>\n",
       "      <td>-0.010119</td>\n",
       "      <td>209.797178</td>\n",
       "      <td>0.979176</td>\n",
       "      <td>84.822105</td>\n",
       "      <td>-0.003275</td>\n",
       "      <td>-0.012393</td>\n",
       "      <td>57.679474</td>\n",
       "      <td>-0.011845</td>\n",
       "      <td>-0.001582</td>\n",
       "      <td>73.064591</td>\n",
       "    </tr>\n",
       "    <tr>\n",
       "      <th>Variance</th>\n",
       "      <td>3283.063262</td>\n",
       "      <td>1249.255942</td>\n",
       "      <td>1666.975303</td>\n",
       "      <td>4052.029594</td>\n",
       "      <td>3.035311</td>\n",
       "      <td>158162.573194</td>\n",
       "      <td>12.847474</td>\n",
       "      <td>0.612947</td>\n",
       "      <td>496.106539</td>\n",
       "      <td>13387.851528</td>\n",
       "      <td>...</td>\n",
       "      <td>3.284138</td>\n",
       "      <td>16002.060938</td>\n",
       "      <td>0.955358</td>\n",
       "      <td>3679.887218</td>\n",
       "      <td>3.184583</td>\n",
       "      <td>3.288345</td>\n",
       "      <td>1023.076126</td>\n",
       "      <td>4.127921</td>\n",
       "      <td>3.301261</td>\n",
       "      <td>9607.031571</td>\n",
       "    </tr>\n",
       "    <tr>\n",
       "      <th>Std</th>\n",
       "      <td>57.298021</td>\n",
       "      <td>35.344815</td>\n",
       "      <td>40.828609</td>\n",
       "      <td>63.655554</td>\n",
       "      <td>1.742214</td>\n",
       "      <td>397.696584</td>\n",
       "      <td>3.584337</td>\n",
       "      <td>0.782910</td>\n",
       "      <td>22.273449</td>\n",
       "      <td>115.705884</td>\n",
       "      <td>...</td>\n",
       "      <td>1.812219</td>\n",
       "      <td>126.499253</td>\n",
       "      <td>0.977424</td>\n",
       "      <td>60.662074</td>\n",
       "      <td>1.784540</td>\n",
       "      <td>1.813379</td>\n",
       "      <td>31.985561</td>\n",
       "      <td>2.031729</td>\n",
       "      <td>1.816937</td>\n",
       "      <td>98.015466</td>\n",
       "    </tr>\n",
       "    <tr>\n",
       "      <th>min</th>\n",
       "      <td>9.044000</td>\n",
       "      <td>0.000000</td>\n",
       "      <td>6.329000</td>\n",
       "      <td>0.000000</td>\n",
       "      <td>0.000000</td>\n",
       "      <td>13.602000</td>\n",
       "      <td>-18.066000</td>\n",
       "      <td>0.208000</td>\n",
       "      <td>0.000000</td>\n",
       "      <td>46.104000</td>\n",
       "      <td>...</td>\n",
       "      <td>-3.142000</td>\n",
       "      <td>13.678000</td>\n",
       "      <td>0.000000</td>\n",
       "      <td>30.000000</td>\n",
       "      <td>-4.499000</td>\n",
       "      <td>-3.142000</td>\n",
       "      <td>30.000000</td>\n",
       "      <td>-4.500000</td>\n",
       "      <td>-3.142000</td>\n",
       "      <td>0.000000</td>\n",
       "    </tr>\n",
       "    <tr>\n",
       "      <th>max</th>\n",
       "      <td>1192.026000</td>\n",
       "      <td>690.075000</td>\n",
       "      <td>1349.351000</td>\n",
       "      <td>2834.999000</td>\n",
       "      <td>8.503000</td>\n",
       "      <td>4974.979000</td>\n",
       "      <td>16.690000</td>\n",
       "      <td>5.684000</td>\n",
       "      <td>2834.999000</td>\n",
       "      <td>1852.462000</td>\n",
       "      <td>...</td>\n",
       "      <td>3.142000</td>\n",
       "      <td>2003.976000</td>\n",
       "      <td>3.000000</td>\n",
       "      <td>1120.573000</td>\n",
       "      <td>4.499000</td>\n",
       "      <td>3.141000</td>\n",
       "      <td>721.456000</td>\n",
       "      <td>4.500000</td>\n",
       "      <td>3.142000</td>\n",
       "      <td>1633.433000</td>\n",
       "    </tr>\n",
       "    <tr>\n",
       "      <th>n-NaNs</th>\n",
       "      <td>38114.000000</td>\n",
       "      <td>0.000000</td>\n",
       "      <td>0.000000</td>\n",
       "      <td>0.000000</td>\n",
       "      <td>177457.000000</td>\n",
       "      <td>177457.000000</td>\n",
       "      <td>177457.000000</td>\n",
       "      <td>0.000000</td>\n",
       "      <td>0.000000</td>\n",
       "      <td>0.000000</td>\n",
       "      <td>...</td>\n",
       "      <td>0.000000</td>\n",
       "      <td>0.000000</td>\n",
       "      <td>0.000000</td>\n",
       "      <td>99913.000000</td>\n",
       "      <td>99913.000000</td>\n",
       "      <td>99913.000000</td>\n",
       "      <td>177457.000000</td>\n",
       "      <td>177457.000000</td>\n",
       "      <td>177457.000000</td>\n",
       "      <td>0.000000</td>\n",
       "    </tr>\n",
       "    <tr>\n",
       "      <th>median</th>\n",
       "      <td>112.406000</td>\n",
       "      <td>46.524000</td>\n",
       "      <td>73.752000</td>\n",
       "      <td>38.467500</td>\n",
       "      <td>2.107000</td>\n",
       "      <td>225.885000</td>\n",
       "      <td>-0.244000</td>\n",
       "      <td>2.491500</td>\n",
       "      <td>12.315500</td>\n",
       "      <td>120.664500</td>\n",
       "      <td>...</td>\n",
       "      <td>-0.024000</td>\n",
       "      <td>179.739000</td>\n",
       "      <td>1.000000</td>\n",
       "      <td>65.561000</td>\n",
       "      <td>0.000000</td>\n",
       "      <td>-0.033000</td>\n",
       "      <td>47.902000</td>\n",
       "      <td>-0.010000</td>\n",
       "      <td>-0.002000</td>\n",
       "      <td>40.512500</td>\n",
       "    </tr>\n",
       "  </tbody>\n",
       "</table>\n",
       "<p>7 rows × 30 columns</p>\n",
       "</div>"
      ],
      "text/plain": [
       "                      0            1            2            3   \\\n",
       "Statistics                                                        \n",
       "Mean          121.858528    49.239819    81.181982    57.895962   \n",
       "Variance     3283.063262  1249.255942  1666.975303  4052.029594   \n",
       "Std            57.298021    35.344815    40.828609    63.655554   \n",
       "min             9.044000     0.000000     6.329000     0.000000   \n",
       "max          1192.026000   690.075000  1349.351000  2834.999000   \n",
       "n-NaNs      38114.000000     0.000000     0.000000     0.000000   \n",
       "median        112.406000    46.524000    73.752000    38.467500   \n",
       "\n",
       "                       4              5              6         7   \\\n",
       "Statistics                                                          \n",
       "Mean             2.403735     371.783360      -0.821688  2.373100   \n",
       "Variance         3.035311  158162.573194      12.847474  0.612947   \n",
       "Std              1.742214     397.696584       3.584337  0.782910   \n",
       "min              0.000000      13.602000     -18.066000  0.208000   \n",
       "max              8.503000    4974.979000      16.690000  5.684000   \n",
       "n-NaNs      177457.000000  177457.000000  177457.000000  0.000000   \n",
       "median           2.107000     225.885000      -0.244000  2.491500   \n",
       "\n",
       "                     8             9   ...        20            21        22  \\\n",
       "Statistics                             ...                                     \n",
       "Mean          18.917332    158.432217  ... -0.010119    209.797178  0.979176   \n",
       "Variance     496.106539  13387.851528  ...  3.284138  16002.060938  0.955358   \n",
       "Std           22.273449    115.705884  ...  1.812219    126.499253  0.977424   \n",
       "min            0.000000     46.104000  ... -3.142000     13.678000  0.000000   \n",
       "max         2834.999000   1852.462000  ...  3.142000   2003.976000  3.000000   \n",
       "n-NaNs         0.000000      0.000000  ...  0.000000      0.000000  0.000000   \n",
       "median        12.315500    120.664500  ... -0.024000    179.739000  1.000000   \n",
       "\n",
       "                      23            24            25             26  \\\n",
       "Statistics                                                            \n",
       "Mean           84.822105     -0.003275     -0.012393      57.679474   \n",
       "Variance     3679.887218      3.184583      3.288345    1023.076126   \n",
       "Std            60.662074      1.784540      1.813379      31.985561   \n",
       "min            30.000000     -4.499000     -3.142000      30.000000   \n",
       "max          1120.573000      4.499000      3.141000     721.456000   \n",
       "n-NaNs      99913.000000  99913.000000  99913.000000  177457.000000   \n",
       "median         65.561000      0.000000     -0.033000      47.902000   \n",
       "\n",
       "                       27             28           29  \n",
       "Statistics                                             \n",
       "Mean            -0.011845      -0.001582    73.064591  \n",
       "Variance         4.127921       3.301261  9607.031571  \n",
       "Std              2.031729       1.816937    98.015466  \n",
       "min             -4.500000      -3.142000     0.000000  \n",
       "max              4.500000       3.142000  1633.433000  \n",
       "n-NaNs      177457.000000  177457.000000     0.000000  \n",
       "median          -0.010000      -0.002000    40.512500  \n",
       "\n",
       "[7 rows x 30 columns]"
      ]
     },
     "execution_count": 7,
     "metadata": {},
     "output_type": "execute_result"
    }
   ],
   "source": [
    "# Importing pandas just to make this numerical EDA nicer to view. \n",
    "# IMPORTANT!!! DO NOT USE IN PROJECT SUBMISSION\n",
    "import pandas as pd\n",
    "df = pd.DataFrame(feature_details)\n",
    "df.index = ['Mean', 'Variance', 'Std', 'min', 'max', 'n-NaNs', 'median']\n",
    "df.index.name = 'Statistics'\n",
    "df"
   ]
  },
  {
   "cell_type": "markdown",
   "metadata": {},
   "source": [
    "We have to standardize dataset - a wide variety of ranges can be observed in the dataset. Would lead to a biased learning algorithm"
   ]
  },
  {
   "cell_type": "code",
   "execution_count": 8,
   "metadata": {},
   "outputs": [],
   "source": [
    "# store mean and variance\n",
    "feature_mean = feature_details[0, :]\n",
    "feature_std = feature_details[2, :]\n",
    "feature_median = feature_details[6, :]"
   ]
  },
  {
   "cell_type": "code",
   "execution_count": 26,
   "metadata": {
    "scrolled": true
   },
   "outputs": [],
   "source": [
    "#Cleaning nans\n",
    "from clean_nan import *\n",
    "\n",
    "tx_ = clean_nan(tX, feature_median)"
   ]
  },
  {
   "cell_type": "code",
   "execution_count": 27,
   "metadata": {},
   "outputs": [
    {
     "name": "stdout",
     "output_type": "stream",
     "text": [
      "[[-1.64971287e-01 -1.43248771e+00 -2.03681582e+00 ...  1.57963171e-01\n",
      "  -4.11010970e-01 -7.53001799e-01]\n",
      " [-1.64971287e-01 -7.68378412e-02 -1.81979789e-01 ...  9.08223761e-04\n",
      "  -2.29898355e-04 -7.53073239e-01]\n",
      " [-1.64971287e-01 -7.68378412e-02 -1.81979789e-01 ...  9.08223761e-04\n",
      "  -2.29898355e-04 -7.53075336e-01]\n",
      " ...\n",
      " [-1.64971287e-01 -7.68378412e-02 -1.81979789e-01 ...  9.08223761e-04\n",
      "  -2.29898355e-04 -7.53077735e-01]\n",
      " [-1.64971287e-01 -7.68378412e-02 -1.81979789e-01 ...  9.08223761e-04\n",
      "  -2.29898355e-04 -7.53122330e-01]\n",
      " [-1.64971287e-01 -7.68378412e-02 -1.81979789e-01 ...  9.08223761e-04\n",
      "  -2.29898355e-04 -7.53122330e-01]]\n"
     ]
    }
   ],
   "source": [
    "# create standardized dataset\n",
    "#should be put into a method\n",
    "for i in range(tx_.shape[1]):\n",
    "    if (i!=22):\n",
    "        tx_[:,i] = (tx_[:,i] - feature_mean[i])/feature_std[i]\n",
    "\n",
    "print(tx_)"
   ]
  },
  {
   "cell_type": "code",
   "execution_count": 28,
   "metadata": {},
   "outputs": [
    {
     "data": {
      "text/plain": [
       "array([2., 1., 1., 0., 0., 3., 2., 1., 0., 1.])"
      ]
     },
     "execution_count": 28,
     "metadata": {},
     "output_type": "execute_result"
    }
   ],
   "source": [
    "tx_[0:10,22]"
   ]
  },
  {
   "cell_type": "code",
   "execution_count": 29,
   "metadata": {},
   "outputs": [
    {
     "data": {
      "text/plain": [
       "(250000, 30)"
      ]
     },
     "execution_count": 29,
     "metadata": {},
     "output_type": "execute_result"
    }
   ],
   "source": [
    "# Double checking array\n",
    "tx_.shape"
   ]
  },
  {
   "cell_type": "code",
   "execution_count": 30,
   "metadata": {},
   "outputs": [],
   "source": [
    "# Saving arrays to .py file. Can easily be loaded with np.load('path' + 'filename')\n",
    "####np.save('tX_cleaned', tX)\n",
    "####np.save('tX_standardized', tX_standardized)\n",
    "# Commented this section out to prevent overwriting of dataset"
   ]
  },
  {
   "cell_type": "markdown",
   "metadata": {},
   "source": [
    "## Do your thing crazy machine learning thing here :) ..."
   ]
  },
  {
   "cell_type": "markdown",
   "metadata": {},
   "source": [
    "### Linear regression using gradient descent"
   ]
  },
  {
   "cell_type": "code",
   "execution_count": 32,
   "metadata": {
    "scrolled": true
   },
   "outputs": [
    {
     "data": {
      "text/plain": [
       "'w1_ = w1.copy()\\nprint(w1_)\\nfor i in range(len(w1)):\\n    w1_[i] = w1_[i]*feature_std[i] +  feature_mean[i]\\n    '"
      ]
     },
     "execution_count": 32,
     "metadata": {},
     "output_type": "execute_result"
    }
   ],
   "source": [
    "#from least_squares_GD import *\n",
    "from costs import compute_mse\n",
    "from least_squares_GD import *\n",
    "from parameter_tuning import gamma_tuning_SGD\n",
    "from parameter_tuning import gamma_tuning_GD\n",
    "\n",
    "# Initialization of the weights\n",
    "initial_w = np.zeros(tx_.shape[1])\n",
    "\n",
    "# Define the parameters necessary for gradient descent: need to tune gamma. \n",
    "# we use the gamma_tuning_SGD for less costly tuning\n",
    "max_iters = 50\n",
    "gamma = gamma_tuning_GD(y, tx_, initial_w, max_iters)\n",
    "\n",
    "w1, loss1 = least_squares_GD(y, tx_, initial_w, max_iters, gamma)\n",
    "#print(w1)\n",
    "#print(loss1)\n",
    "\n",
    "\"\"\"w1_ = w1.copy()\n",
    "print(w1_)\n",
    "for i in range(len(w1)):\n",
    "    w1_[i] = w1_[i]*feature_std[i] +  feature_mean[i]\n",
    "    \"\"\""
   ]
  },
  {
   "cell_type": "code",
   "execution_count": 16,
   "metadata": {},
   "outputs": [
    {
     "name": "stdout",
     "output_type": "stream",
     "text": [
      "0.9976909649072614\n"
     ]
    }
   ],
   "source": [
    "print(loss1)"
   ]
  },
  {
   "cell_type": "markdown",
   "metadata": {},
   "source": [
    "### Least squares with SGD"
   ]
  },
  {
   "cell_type": "code",
   "execution_count": 20,
   "metadata": {},
   "outputs": [
    {
     "name": "stdout",
     "output_type": "stream",
     "text": [
      "0.9970194269760377\n"
     ]
    }
   ],
   "source": [
    "from least_squares_SGD import *\n",
    "#No need to re-tune gamma BUT NOT SURE\n",
    "#Here batch_size is set at 1\n",
    "\n",
    "\n",
    "# Initialization of the weights BUT we could use w1 as a start AND careful with tuning\n",
    "initial_w = np.zeros(tx_.shape[1])\n",
    "gamma = gamma_tuning_GD(y, tx_, initial_w, max_iters)\n",
    "\n",
    "w2, loss2 = least_squares_SGD(y, tx_, initial_w, 1, max_iters, gamma)\n",
    "#print(w2)\n",
    "print(loss2)\n",
    "w2_ = w2.copy()\n",
    "print(w1_)\n",
    "for i in range(len(w2)):\n",
    "    w2_[i] = w2_[i]*feature_std[i] +  feature_mean[i]"
   ]
  },
  {
   "cell_type": "markdown",
   "metadata": {},
   "source": [
    "### Least Squares using Normal Equations"
   ]
  },
  {
   "cell_type": "code",
   "execution_count": 33,
   "metadata": {},
   "outputs": [
    {
     "name": "stdout",
     "output_type": "stream",
     "text": [
      "0.9004464774102637\n"
     ]
    },
    {
     "data": {
      "text/plain": [
       "'w3_ = w3.copy()\\nfor i in range(len(w3)):\\n    w3_[i] = w3_[i]*feature_std[i] +  feature_mean[i]\\n    '"
      ]
     },
     "execution_count": 33,
     "metadata": {},
     "output_type": "execute_result"
    }
   ],
   "source": [
    "from least_squares import *\n",
    "from build_polynomial import *\n",
    "from parameter_tuning import degree_tuning_LS\n",
    "\n",
    "# degree = degree_tuning_LS(y , tx_)\n",
    "# Initialization of the weights BUT could use w2\n",
    "initial_w = np.zeros(tx_.shape[1]) \n",
    "\n",
    "#poly_x = build_poly(tx_, degree)\n",
    "\n",
    "w3, loss3 = least_squares(y, tx_)\n",
    "#_, loss3_expand = least_squares(y, poly_x)\n",
    "print(loss3)\n",
    "#print(loss3_expand)\n",
    "\n",
    "\"\"\"w3_ = w3.copy()\n",
    "for i in range(len(w3)):\n",
    "    w3_[i] = w3_[i]*feature_std[i] +  feature_mean[i]\n",
    "    \"\"\""
   ]
  },
  {
   "cell_type": "code",
   "execution_count": 29,
   "metadata": {},
   "outputs": [
    {
     "name": "stdout",
     "output_type": "stream",
     "text": [
      "10\n"
     ]
    }
   ],
   "source": [
    "print(degree)"
   ]
  },
  {
   "cell_type": "markdown",
   "metadata": {},
   "source": [
    "### Ridge regression"
   ]
  },
  {
   "cell_type": "code",
   "execution_count": 23,
   "metadata": {
    "scrolled": true
   },
   "outputs": [
    {
     "name": "stdout",
     "output_type": "stream",
     "text": [
      "3.831186849557293e-11\n",
      "0.949203122152439\n"
     ]
    }
   ],
   "source": [
    "from ridge_regression import *\n",
    "from parameter_tuning import lambda_tuning_ridge\n",
    "\n",
    "# Tuning of lambda\n",
    "lambda_ = lambda_tuning_ridge(y, tx_)\n",
    "print(lambda_)\n",
    "\n",
    "# Computing the loss\n",
    "w4, loss4 = ridge_regression(y, tx_, lambda_)\n",
    "print(loss4)\n",
    "w4_ = w4.copy()\n",
    "for i in range(len(w1)):\n",
    "    w4_[i] = w4_[i]*feature_std[i] +  feature_mean[i]"
   ]
  },
  {
   "cell_type": "markdown",
   "metadata": {},
   "source": [
    "### Logistic Regression"
   ]
  },
  {
   "cell_type": "code",
   "execution_count": 24,
   "metadata": {
    "scrolled": false
   },
   "outputs": [
    {
     "name": "stdout",
     "output_type": "stream",
     "text": [
      "(250000, 30)\n",
      "[ 2.16573262e-09  1.41866310e-09  2.02480684e-09  9.26190885e-10\n",
      "  1.40499103e-09  9.51977365e-10 -2.33446140e-10  3.08668956e-09\n",
      "  8.64890158e-10  1.39436538e-09  1.73302866e-09 -1.09465863e-10\n",
      "  1.17059266e-09  1.75873919e-09 -9.20385699e-12 -4.58004931e-12\n",
      "  2.15344440e-09 -1.57038417e-11  2.44087416e-11  1.29145439e-09\n",
      " -5.68622019e-12  1.68888554e-09  1.02015495e-09  1.42390274e-09\n",
      " -1.86861070e-12 -6.95937415e-12  1.83635167e-09 -5.93700744e-12\n",
      " -8.86817921e-13  7.59103311e-10]\n",
      "173286.78524797945\n"
     ]
    }
   ],
   "source": [
    "from logistic_regression import *\n",
    "from parameter_tuning import gamma_tuning_log\n",
    "\n",
    "# Initialization of the weights BUT could use w2\n",
    "initial_w = np.zeros(tx_.shape[1])\n",
    "# Tuning of gamma\n",
    "#gamma = gamma_tuning_log(y, tx_, initial_w, max_iters)\n",
    "gamma=0.0000000000000001\n",
    "w5, loss5 = logistic_regression(y, tx_, initial_w, max_iters, gamma)\n",
    "print(w5)\n",
    "print(loss5)\n",
    "w5_ = w5.copy()\n",
    "for i in range(len(w5)):\n",
    "    w5_[i] = w5_[i]*feature_std[i] +  feature_mean[i]"
   ]
  },
  {
   "cell_type": "markdown",
   "metadata": {},
   "source": [
    "### Unstandardize the weights"
   ]
  },
  {
   "cell_type": "code",
   "execution_count": 47,
   "metadata": {},
   "outputs": [
    {
     "name": "stdout",
     "output_type": "stream",
     "text": [
      "[ 2.45108232e-06 -3.43700133e-05 -5.44718014e-06  1.14740597e-05\n",
      "  4.73573474e-05  4.56846562e-05 -4.24550044e-05  2.20708422e-06\n",
      " -4.00225899e-05 -1.72940230e-05 -2.87181563e-05  2.08680153e-05\n",
      "  4.44417221e-05  2.61484975e-05 -1.78429894e-06 -3.57904831e-07\n",
      " -1.22306800e-05 -1.72494696e-06  5.92511254e-07  2.17852349e-06\n",
      "  1.28490515e-06 -2.31919542e-05 -3.37104443e-05  3.06211246e-07\n",
      "  5.29120741e-07  2.49389382e-07 -3.26290649e-06  1.71041410e-07\n",
      " -9.07921975e-07  6.37310733e-05]\n",
      "[ 1.21858669e+02  4.92386045e+01  8.11817592e+01  5.78966920e+01\n",
      "  2.40381753e+00  3.71801529e+02 -8.21840344e-01  2.37310157e+00\n",
      "  1.89164410e+01  1.58430216e+02  1.43758517e+00 -1.28279800e-01\n",
      "  4.58307518e-01  3.87080052e+01 -1.09752143e-02 -8.17172223e-03\n",
      "  4.66599374e+01 -1.95096500e-02  4.35440404e-02  4.17173062e+01\n",
      " -1.01168635e-02  2.09794244e+02  9.79143051e-01  8.48221231e+01\n",
      " -3.27364317e-03 -1.23923733e-02  5.76793701e+01 -1.18449167e-02\n",
      " -1.58393876e-03  7.30708380e+01]\n"
     ]
    }
   ],
   "source": [
    "w1_ = w1.copy()\n",
    "print(w1_)\n",
    "for i in range(len(w1)):\n",
    "    w1_[i] = w1_[i]*feature_std[i] +  feature_mean[i]\n",
    "\n",
    "print(w1_)"
   ]
  },
  {
   "cell_type": "markdown",
   "metadata": {},
   "source": [
    "# Predictions"
   ]
  },
  {
   "cell_type": "code",
   "execution_count": 26,
   "metadata": {},
   "outputs": [],
   "source": [
    "## Generate predictions and save ouput in csv format for submission:"
   ]
  },
  {
   "cell_type": "code",
   "execution_count": 34,
   "metadata": {},
   "outputs": [],
   "source": [
    "DATA_TEST_PATH = '../data/test.csv' # TODO: download train data and supply path here \n",
    "_, tX_test, ids_test = load_csv_data(DATA_TEST_PATH)"
   ]
  },
  {
   "cell_type": "code",
   "execution_count": 42,
   "metadata": {},
   "outputs": [],
   "source": [
    "# STANDARDIZE TX TEST\n",
    "test_mean = np.zeros(tX_test.shape[1]).T\n",
    "test_std = np.zeros(tX_test.shape[1]).T\n",
    "for i in range(tX_test.shape[1]):\n",
    "    test_mean[i] = np.nanmean(tX_test[:,i])\n",
    "    test_std[i] = np.nanstd(tX_test[:,i])\n",
    "for i in range(tX_test.shape[1]):\n",
    "    if (i!=22):\n",
    "        tX_test[:,i] = (tX_test[:,i] - test_mean[i])/test_std[i]"
   ]
  },
  {
   "cell_type": "code",
   "execution_count": 44,
   "metadata": {},
   "outputs": [],
   "source": [
    "OUTPUT_PATH = '../data/sample-submission.csv' # TODO: fill in desired name of output file for submission\n",
    "y_pred = predict_labels(w3, tX_test) # CAREFUL IT'S W3\n",
    "create_csv_submission(ids_test, y_pred, OUTPUT_PATH)"
   ]
  },
  {
   "cell_type": "code",
   "execution_count": 38,
   "metadata": {},
   "outputs": [],
   "source": [
    "weights = w2"
   ]
  },
  {
   "cell_type": "code",
   "execution_count": 39,
   "metadata": {},
   "outputs": [],
   "source": [
    "OUTPUT_PATH = '../data/sample-submission.csv' # TODO: fill in desired name of output file for submission\n",
    "y_pred = predict_labels(weights, tX_test)\n",
    "create_csv_submission(ids_test, y_pred, OUTPUT_PATH)"
   ]
  },
  {
   "cell_type": "code",
   "execution_count": null,
   "metadata": {},
   "outputs": [],
   "source": []
  }
 ],
 "metadata": {
  "anaconda-cloud": {},
  "kernelspec": {
   "display_name": "Python 3",
   "language": "python",
   "name": "python3"
  },
  "language_info": {
   "codemirror_mode": {
    "name": "ipython",
    "version": 3
   },
   "file_extension": ".py",
   "mimetype": "text/x-python",
   "name": "python",
   "nbconvert_exporter": "python",
   "pygments_lexer": "ipython3",
   "version": "3.8.3"
  }
 },
 "nbformat": 4,
 "nbformat_minor": 1
}
