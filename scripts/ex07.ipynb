{
  "nbformat": 4,
  "nbformat_minor": 0,
  "metadata": {
    "anaconda-cloud": {},
    "kernelspec": {
      "display_name": "Python 3",
      "language": "python",
      "name": "python3"
    },
    "language_info": {
      "codemirror_mode": {
        "name": "ipython",
        "version": 3
      },
      "file_extension": ".py",
      "mimetype": "text/x-python",
      "name": "python",
      "nbconvert_exporter": "python",
      "pygments_lexer": "ipython3",
      "version": "3.7.4"
    },
    "colab": {
      "name": "ex07.ipynb",
      "provenance": [],
      "collapsed_sections": []
    }
  },
  "cells": [
    {
      "cell_type": "code",
      "metadata": {
        "id": "H63uIWLzK4_-"
      },
      "source": [
        "#AYAAAAAAAAAAAAAAAAAAAAAAA\n",
        "# Useful starting lines\n",
        "%matplotlib inline\n",
        "\n",
        "import random\n",
        "from datetime import datetime\n",
        "\n",
        "import numpy as np\n",
        "import matplotlib.pyplot as plt\n",
        "%load_ext autoreload\n",
        "%autoreload 2"
      ],
      "execution_count": 1,
      "outputs": []
    },
    {
      "cell_type": "markdown",
      "metadata": {
        "id": "zjQO5WvTK5AD"
      },
      "source": [
        "# Support Vector Machines\n",
        "## Classification Using SVM\n",
        "Load dataset. We will use a toy dataset from sklearn."
      ]
    },
    {
      "cell_type": "code",
      "metadata": {
        "id": "tRtxOIkXK5AE",
        "outputId": "478bf2bf-32f2-42a8-b0ad-09957ba3d858",
        "colab": {
          "base_uri": "https://localhost:8080/"
        }
      },
      "source": [
        "from sklearn import datasets\n",
        "\n",
        "#Load dataset\n",
        "sklearn_dataset = datasets.load_breast_cancer()\n",
        "Xx  = sklearn_dataset.data\n",
        "y = sklearn_dataset.target * 2 - 1    # labels must be in {-1, 1} for the hinge loss\n",
        "X = np.ones((Xx.shape[0], Xx.shape[1] + 1 ))   \n",
        "X[:, :-1] = Xx\n",
        "print(\"(N, D) =\", X.shape)"
      ],
      "execution_count": 2,
      "outputs": [
        {
          "output_type": "stream",
          "text": [
            "(N, D) = (569, 31)\n"
          ],
          "name": "stdout"
        }
      ]
    },
    {
      "cell_type": "markdown",
      "metadata": {
        "id": "OB2IlhswK5AI"
      },
      "source": [
        "## Prepare cost and prediction functions"
      ]
    },
    {
      "cell_type": "code",
      "metadata": {
        "id": "mF7GX8rhK5AI"
      },
      "source": [
        "def hinge_loss(y, X, w):\n",
        "    return np.clip(1 - y * (X @ w), 0, np.inf)"
      ],
      "execution_count": 3,
      "outputs": []
    },
    {
      "cell_type": "code",
      "metadata": {
        "id": "6dnvikscK5AL"
      },
      "source": [
        "def calculate_primal_objective(y, X, w, lambda_):\n",
        "    \"\"\"compute the full cost (the primal objective), that is loss plus regularizer.\n",
        "    X: the full dataset matrix, shape = (num_examples, num_features)\n",
        "    y: the corresponding +1 or -1 labels, shape = (num_examples)\n",
        "    w: shape = (num_features)\n",
        "    \"\"\"\n",
        "    v = hinge_loss(y, X, w)\n",
        "    return np.sum(v) + lambda_ / 2 * np.sum(w ** 2)"
      ],
      "execution_count": 4,
      "outputs": []
    },
    {
      "cell_type": "code",
      "metadata": {
        "id": "HAnqIf0lK5AO"
      },
      "source": [
        "def accuracy(y1, y2):\n",
        "    return np.mean(y1 == y2)\n",
        "\n",
        "def prediction(X, w):\n",
        "    return (X @ w > 0) * 2 - 1\n",
        "\n",
        "def calculate_accuracy(y, X, w):\n",
        "    \"\"\"compute the training accuracy on the training set (can be called for test set as well).\n",
        "    X: the full dataset matrix, shape = (num_examples, num_features)\n",
        "    y: the corresponding +1 or -1 labels, shape = (num_examples)\n",
        "    w: shape = (num_features)\n",
        "    \"\"\"\n",
        "    predicted_y = prediction(X, w)\n",
        "    return accuracy(predicted_y, y)"
      ],
      "execution_count": 5,
      "outputs": []
    },
    {
      "cell_type": "markdown",
      "metadata": {
        "id": "XEEYP3BLK5AQ"
      },
      "source": [
        "## Stochastic Gradient Descent for SVM"
      ]
    },
    {
      "cell_type": "markdown",
      "metadata": {
        "id": "8jpBOFokK5AR"
      },
      "source": [
        "Compute the (stochastic) subgradient for the n-th summand of the SVM optimization objective"
      ]
    },
    {
      "cell_type": "code",
      "metadata": {
        "id": "4IVbGCWkK5AR"
      },
      "source": [
        "def calculate_stochastic_gradient(y, X, w, lambda_, n, num_examples):\n",
        "    \"\"\"compute the stochastic gradient of loss plus regularizer.\n",
        "    X: the dataset matrix, shape = (num_examples, num_features)\n",
        "    y: the corresponding +1 or -1 labels, shape = (num_examples)\n",
        "    w: shape = (num_features)\n",
        "    n: the index of the (one) datapoint we have sampled\n",
        "    num_examples: N\n",
        "    \"\"\"\n",
        "    # Be careful about the constant N (size) term!\n",
        "    # The complete objective for SVM is a sum, not an average as in earlier SGD examples!\n",
        "    def is_support(y_n, x_n, w):\n",
        "        \"\"\"a datapoint is support if max{} is not 0. \"\"\"\n",
        "        return y_n * x_n @ w < 1\n",
        "    \n",
        "    x_n, y_n = X[n], y[n]\n",
        "    grad = - y_n * x_n.T if is_support(y_n, x_n, w) else np.zeros_like(x_n.T)\n",
        "    grad = num_examples * np.squeeze(grad) + lambda_ * w\n",
        "    return grad"
      ],
      "execution_count": 6,
      "outputs": []
    },
    {
      "cell_type": "markdown",
      "metadata": {
        "id": "3CvvqQ1IK5AU"
      },
      "source": [
        "Implement stochastic gradient descent: Pick a data point uniformly at random and update w based on the gradient for the n-th summand of the objective"
      ]
    },
    {
      "cell_type": "code",
      "metadata": {
        "id": "OwN-cRUlK5AV",
        "outputId": "b2ec54c6-60d8-4dda-ba9e-7e791c382199",
        "colab": {
          "base_uri": "https://localhost:8080/"
        }
      },
      "source": [
        "def sgd_for_svm_demo(y, X):\n",
        "    \n",
        "    max_iter = 2 * int(1e5)\n",
        "    gamma = 1e-4\n",
        "    lambda_ = int(1e4)   # big because scales with N due to the formulation of the problem (not an averaged loss)\n",
        "\n",
        "    num_examples, num_features = X.shape\n",
        "    w = np.zeros(num_features)\n",
        "    \n",
        "    for it in range(max_iter):\n",
        "        # n = sample one data point uniformly at random data from x\n",
        "        n = random.randint(0,num_examples-1)\n",
        "        \n",
        "        grad = calculate_stochastic_gradient(y, X, w, lambda_, n, num_examples)\n",
        "        w -= gamma / (it+1) * grad   \n",
        "        \n",
        "        if it % 20000 == 0:\n",
        "            cost = calculate_primal_objective(y, X, w, lambda_)\n",
        "            print(\"iteration={i}, cost={c}\".format(i=it, c=cost))\n",
        "            \n",
        "    print(\"training accuracy = {l}\".format(l=calculate_accuracy(y, X, w)))\n",
        "\n",
        "\n",
        "sgd_for_svm_demo(y, X)"
      ],
      "execution_count": 7,
      "outputs": [
        {
          "output_type": "stream",
          "text": [
            "iteration=0, cost=39103719.198887095\n",
            "iteration=20000, cost=266.2624597474778\n",
            "iteration=40000, cost=143.21819813781534\n",
            "iteration=60000, cost=149.1831800331407\n",
            "iteration=80000, cost=141.61619964741618\n",
            "iteration=100000, cost=129.646624007607\n",
            "iteration=120000, cost=157.35568214198116\n",
            "iteration=140000, cost=127.82370597942759\n",
            "iteration=160000, cost=149.43485183179433\n",
            "iteration=180000, cost=153.36975199070105\n",
            "training accuracy = 0.9279437609841827\n"
          ],
          "name": "stdout"
        }
      ]
    },
    {
      "cell_type": "markdown",
      "metadata": {
        "id": "JDfy_ezfK5AX"
      },
      "source": [
        "## Coordinate Descent (Ascent) for SVM"
      ]
    },
    {
      "cell_type": "markdown",
      "metadata": {
        "id": "idYReGt_K5AY"
      },
      "source": [
        "Compute the closed-form update for the n-th variable alpha, in the dual optimization problem, given alpha and the current corresponding w"
      ]
    },
    {
      "cell_type": "code",
      "metadata": {
        "id": "TG4sXHKGK5AY"
      },
      "source": [
        "def calculate_coordinate_update(y, X, lambda_, alpha, w, n):\n",
        "    \"\"\"compute a coordinate update (closed form) for coordinate n.\n",
        "    X: the dataset matrix, shape = (num_examples, num_features)\n",
        "    y: the corresponding +1 or -1 labels, shape = (num_examples)\n",
        "    w: shape = (num_examples)\n",
        "    n: the coordinate to be updated\n",
        "    \"\"\"        \n",
        "    # calculate the update of coordinate at index=n.\n",
        "    x_n, y_n = X[n], y[n]\n",
        "    old_alpha_n = np.copy(alpha[n])\n",
        "    \n",
        "    g = (1 - y_n * x_n.dot(w))\n",
        "\n",
        "    if g != 0:\n",
        "        alpha[n] = min(\n",
        "            max(old_alpha_n + lambda_ * g / (x_n.T.dot(x_n)), 0.0),\n",
        "            1.0)\n",
        "\n",
        "        # compute the corresponding update on the primal vector w\n",
        "        w += 1.0 / lambda_ * (alpha[n] - old_alpha_n) * y_n * x_n\n",
        "    return w, alpha"
      ],
      "execution_count": 8,
      "outputs": []
    },
    {
      "cell_type": "code",
      "metadata": {
        "id": "ODR7AVmBK5Aa"
      },
      "source": [
        "def calculate_dual_objective(y, X, w, alpha, lambda_):\n",
        "    \"\"\"calculate the objective for the dual problem.\"\"\"\n",
        "    return np.sum(alpha)  - lambda_ / 2.0 * np.sum(w ** 2) # w = 1/lambda * X * Y * alpha"
      ],
      "execution_count": 9,
      "outputs": []
    },
    {
      "cell_type": "code",
      "metadata": {
        "id": "lmTRsXkCK5Ac",
        "outputId": "4fcf64e1-3065-4843-e6c5-04b4f852ecd0",
        "colab": {
          "base_uri": "https://localhost:8080/"
        }
      },
      "source": [
        "# Notice that the gap is going to 0\n",
        "def coordinate_descent_for_svm_demo(y, X):\n",
        "    max_iter = 2*int(1e5)\n",
        "    lambda_ = int(1e4)\n",
        "\n",
        "    num_examples, num_features = X.shape\n",
        "    w = np.zeros(num_features)\n",
        "    alpha = np.zeros(num_examples)\n",
        "    \n",
        "    for it in range(max_iter):\n",
        "        # n = sample one data point uniformly at random data from x\n",
        "        n = random.randint(0,num_examples-1)\n",
        "        \n",
        "        w, alpha = calculate_coordinate_update(y, X, lambda_, alpha, w, n)\n",
        "            \n",
        "        if it % 20000 == 0:\n",
        "            # primal objective\n",
        "            primal_value = calculate_primal_objective(y, X, w, lambda_)\n",
        "            # dual objective\n",
        "            dual_value = calculate_dual_objective(y, X, w, alpha, lambda_)\n",
        "            # primal dual gap\n",
        "            duality_gap = primal_value - dual_value\n",
        "            print('iteration=%i, primal:%.5f, dual:%.5f, gap:%.5f'%(\n",
        "                    it, primal_value, dual_value, duality_gap))\n",
        "    print(\"training accuracy = {l}\".format(l=calculate_accuracy(y, X, w)))\n",
        "\n",
        "coordinate_descent_for_svm_demo(y, X)"
      ],
      "execution_count": 10,
      "outputs": [
        {
          "output_type": "stream",
          "text": [
            "iteration=0, primal:668.23388, dual:0.00433, gap:668.22956\n",
            "iteration=20000, primal:148.67613, dual:55.91391, gap:92.76223\n",
            "iteration=40000, primal:132.49104, dual:89.26473, gap:43.22631\n",
            "iteration=60000, primal:126.17208, dual:104.64746, gap:21.52462\n",
            "iteration=80000, primal:124.26980, dual:111.71784, gap:12.55196\n",
            "iteration=100000, primal:123.99951, dual:115.35641, gap:8.64309\n",
            "iteration=120000, primal:123.63363, dual:117.85797, gap:5.77566\n",
            "iteration=140000, primal:122.76769, dual:119.48310, gap:3.28459\n",
            "iteration=160000, primal:133.01281, dual:120.47891, gap:12.53391\n",
            "iteration=180000, primal:123.11578, dual:121.04101, gap:2.07477\n",
            "training accuracy = 0.9173989455184535\n"
          ],
          "name": "stdout"
        }
      ]
    }
  ]
}